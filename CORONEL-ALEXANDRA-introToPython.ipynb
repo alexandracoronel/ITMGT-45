{
 "cells": [
  {
   "cell_type": "markdown",
   "id": "8ad81eb7",
   "metadata": {},
   "source": [
    "Student detailes\n",
    "201343\n",
    "Coronel\n",
    "3 BS ITE"
   ]
  },
  {
   "cell_type": "code",
   "execution_count": 4,
   "id": "174e9c03",
   "metadata": {},
   "outputs": [
    {
     "name": "stdout",
     "output_type": "stream",
     "text": [
      "Enter first number: 1\n",
      "Enter second number: 1\n",
      "Enter third number: 1\n",
      "1.0\n"
     ]
    }
   ],
   "source": [
    "firstnum = int(input(\"Enter first number: \"))\n",
    "secondnum = int(input(\"Enter second number: \"))\n",
    "thirdnum = int(input(\"Enter third number: \"))\n",
    "\n",
    "average = (firstnum + secondnum + thirdnum)/(3)\n",
    "\n",
    "print(average)\n",
    "\n"
   ]
  }
 ],
 "metadata": {
  "kernelspec": {
   "display_name": "Python 3",
   "language": "python",
   "name": "python3"
  },
  "language_info": {
   "codemirror_mode": {
    "name": "ipython",
    "version": 3
   },
   "file_extension": ".py",
   "mimetype": "text/x-python",
   "name": "python",
   "nbconvert_exporter": "python",
   "pygments_lexer": "ipython3",
   "version": "3.8.8"
  }
 },
 "nbformat": 4,
 "nbformat_minor": 5
}
